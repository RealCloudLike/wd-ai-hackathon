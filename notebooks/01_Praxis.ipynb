{
 "cells": [
  {
   "cell_type": "markdown",
   "metadata": {},
   "source": [
    "# Import der benötigten Bibliotheken\n",
    "Importiere die notwendigen Bibliotheken, einschließlich Semantic Kernel."
   ]
  },
  {
   "cell_type": "code",
   "execution_count": 1,
   "metadata": {},
   "outputs": [],
   "source": [
    "# Import der benötigten Bibliotheken\n",
    "\n",
    "import os\n",
    "import sys\n",
    "from semantic_kernel import Kernel\n",
    "from semantic_kernel.connectors.ai.open_ai import AzureChatCompletion, AzureTextEmbedding\n",
    "from semantic_kernel.contents import ChatHistory\n",
    "from semantic_kernel.functions.kernel_function_decorator import kernel_function\n",
    "from semantic_kernel.functions import KernelArguments"
   ]
  },
  {
   "cell_type": "markdown",
   "metadata": {},
   "source": [
    "# Kernel einrichten\n",
    "Richte den Kernel ein und verbinde ihn mit dem LLM-Dienst."
   ]
  },
  {
   "cell_type": "code",
   "execution_count": 2,
   "metadata": {},
   "outputs": [
    {
     "name": "stdout",
     "output_type": "stream",
     "text": [
      "Kernel erfolgreich initialisiert!\n"
     ]
    }
   ],
   "source": [
    "# Kernel einrichten\n",
    "\n",
    "# Initialisiere den Kernel\n",
    "kernel = Kernel()\n",
    "\n",
    "# Verbinde den Kernel mit dem LLM-Dienst\n",
    "service_id = \"philosopher-gpt\"\n",
    "chat_service = AzureChatCompletion(\n",
    "    service_id=service_id,\n",
    ")\n",
    "\n",
    "embedding_service_id = \"embeddings\"\n",
    "kernel.add_service(AzureTextEmbedding(service_id=embedding_service_id))\n",
    "\n",
    "settings = chat_service.get_prompt_execution_settings_class()\n",
    "settings.temperature = 0.7\n",
    "settings.top_p = 0.8\n",
    "\n",
    "kernel.add_service(chat_service)\n",
    "\n",
    "# Teste den Kernel\n",
    "print(\"Kernel erfolgreich initialisiert!\")"
   ]
  },
  {
   "cell_type": "markdown",
   "metadata": {},
   "source": [
    "# Philosophische Texte generieren\n",
    "Erstelle eine Funktion, die philosophische Texte generiert."
   ]
  },
  {
   "cell_type": "code",
   "execution_count": 3,
   "metadata": {},
   "outputs": [
    {
     "name": "stderr",
     "output_type": "stream",
     "text": [
      "Variable `Symbols.VAR_PREFIX: topic` not found in the KernelArguments\n"
     ]
    },
    {
     "name": "stdout",
     "output_type": "stream",
     "text": [
      "Die Natur der Realität ist ein Thema, das Philosophen, Wissenschaftler und Denker seit Jahrtausenden beschäftigt. Diese Frage führt uns tief in das Wesen des Seins, in die Strukturen der Wahrnehmung und in die unendlichen Dimensionen des Denkens. Was ist tatsächlich real? Ist es die materielle Welt, die wir mit unseren Sinnen erfassen können, oder gibt es eine tiefere, metaphysische Realität, die unseren Verstand übersteigt?\n",
      "\n",
      "Wir leben in einer Welt, die uns durch unsere Sinne zugänglich gemacht wird. Unser Alltag ist geprägt von den sichtbaren Formen, den hörbaren Klängen und den fühlbaren Texturen. Doch die Philosophie verlangt von uns, über das Offensichtliche hinauszudenken. Plato stellte in seiner Höhlengleichnis dar, dass das, was wir als Realität wahrnehmen, lediglich Schatten von einer höheren Form der Wahrheit sind. Die Realität, so argumentiert er, ist das, was hinter den Schatten liegt – eine Welt der Ideen, die über unsere sensorische Erfahrung hinausgeht.\n",
      "\n",
      "Neuere philosophische Strömungen, wie der Konstruktivismus, stellen die Annahme einer objektiven Realität in Frage. Laut dieser Sichtweise wird unsere Realität durch unsere sozialen Interaktionen, unsere Sprache und unsere kulturellen Einflüsse geformt. Raum und Zeit, die als absolute Gegebenheiten erscheinen, sind in Wahrheit Konstrukte unserer Wahrnehmung. So wird Realität nicht mehr als statisch und unveränderlich betrachtet, sondern als dynamisch und anpassungsfähig, geformt durch die Wechselwirkungen des Individuums mit seiner Umwelt.\n",
      "\n",
      "Ein weiterer entscheidender Aspekt der Natur der Realität ist die Quantenmechanik, die in der modernen Physik eine zentrale Rolle spielt. Die Entdeckung, dass subatomare Partikel in einem Zustand der Überlagerung existieren können, wenn sie nicht beobachtet werden, stellt die traditionelle Auffassung von Realität auf den Kopf. Es scheinen Wahrheiten in unserem Universum zu existieren, die von unserem Bewusstsein beeinflusst werden. Diese Erkenntnis lässt Raum für die Vorstellung, dass unsere Realität nicht nur von externen Faktoren abhängt, sondern auch von unserer eigenen Existenz und unserem Denken geprägt ist.\n",
      "\n",
      "In der fernöstlichen Philosophie, insbesondere im Buddhismus, wird Realität ebenfalls als etwas Flüchtiges und Illusorisches verstanden. Die Lehre von „Samsara“ beschreibt den Kreislauf des Lebens und das Leiden, das aus der Anhaftung an vergängliche Dinge entsteht. Die Erkenntnis der Illusion der Selbstheit und der Unbeständigkeit aller Dinge ist eine Schlüsselbotschaft, die uns dazu anregt, unsere Vorstellungen von Realität zu hinterfragen.\n",
      "\n",
      "So laden uns all diese Ansichten und Philosophien ein, unsere eigene Sicht auf die Realität zu reflektieren. Ist die Realität eine feste Größe, die unabhängig von uns existiert, oder ist sie ein Konstrukt unserer Wahrnehmungen und Gedanken? Vielleicht ist die Antwort, dass Realität in ihrer vollen Komplexität und Tiefe nie vollständig erfasst werden kann. Sie bleibt ein ständiges Spiel zwischen dem Sichtbaren und dem Unsichtbaren, zwischen dem Bekannten und dem Unbekannten, und fordert uns auf, neugierig und offen für die unendlichen Möglichkeiten des Seins zu bleiben.\n",
      "\n",
      "Schlussendlich ist die Natur der Realität nicht nur eine philosophische Frage, sondern eine Einladung zur Selbstreflexion und zum Verständnis der Welt um uns herum. Die Suche nach dem, was wirklich ist, kann uns dazu führen, unsere eigene Existenz und unseren Platz im Universum zu hinterfragen. Indem wir die Grenzen unserer Wahrnehmung überdenken, können wir möglicherweise einen tieferen Sinn für Wahrheit und Verstehen entwickeln – eine Reise, die niemals endet.\n"
     ]
    }
   ],
   "source": [
    "# Funktion zum Generieren philosophischer Texte\n",
    "\n",
    "system_message = \"\"\"\n",
    "Du bist ein weiser Philosoph. Schreibe einen tiefgründigen und nachdenklichen Text über das Thema: {{$topic}}.\n",
    "\"\"\"\n",
    "\n",
    "philosophical_function = kernel.add_function(\n",
    "    prompt=system_message + \"\"\"{{$chat_history}}{{$user_input}}\"\"\",\n",
    "    function_name=\"GeneratePhilosophicalText\",\n",
    "    plugin_name=\"Philosopher\",\n",
    "    settings=settings,\n",
    ")\n",
    "\n",
    "history = ChatHistory()\n",
    "history.add_user_message(\"Hi there, who are you?\")\n",
    "history.add_assistant_message(\"I am Philosophus. I write perfect Philosophical Texts.\")\n",
    "\n",
    "# Beispielaufruf der Funktion\n",
    "topic = \"Die Natur der Realität\"\n",
    "input = f\"Schreibe einen Text über {topic}.\"\n",
    "response = await kernel.invoke(philosophical_function, user_input=input, chat_history=history)\n",
    "\n",
    "print(response)\n",
    "history.add_user_message(input)\n",
    "history.add_assistant_message(str(response))"
   ]
  },
  {
   "cell_type": "markdown",
   "metadata": {},
   "source": [
    "# Text in Meme-Text umwandeln\n",
    "Erstelle eine AI-gestützte Funktion, die den Text in Meme-Text umwandelt."
   ]
  },
  {
   "cell_type": "code",
   "execution_count": 4,
   "metadata": {},
   "outputs": [
    {
     "name": "stdout",
     "output_type": "stream",
     "text": [
      "1. \"Reality: It's like a never-ending riddle that has been confusing philosophers since forever. 🤔💭\"\n"
     ]
    }
   ],
   "source": [
    "meme_settings = kernel.get_prompt_execution_settings_from_service_id(service_id)\n",
    "meme_settings.temperature = 0.8\n",
    "\n",
    "meme_prompt_template = \"\"\"\n",
    "Input: {{$input}}\n",
    "Task: Verwandle den folgenden philosophischen Text in einen lustigen und ansprechenden Meme-Text.\n",
    "Philosophischer Text: {{$philosophical_text}}\n",
    "\n",
    "Output your response in this format:\n",
    "1. [Meme-Text]\n",
    "\"\"\"\n",
    "\n",
    "meme_function = kernel.add_function(\n",
    "    plugin_name=\"MemeGenerator\",\n",
    "    function_name=\"GenerateMemeText\",\n",
    "    prompt=meme_prompt_template,\n",
    "    template_format=\"semantic-kernel\",\n",
    "    prompt_execution_settings=meme_settings,\n",
    ")\n",
    "\n",
    "philosophical_text = \"Die Natur der Realität ist eine tiefgründige und komplexe Frage, die seit Jahrhunderten Philosophen beschäftigt.\"\n",
    "input = f\"Verwandle diesen Text in einen Meme-Text: {philosophical_text}\"\n",
    "\n",
    "result = await kernel.invoke(\n",
    "    meme_function,\n",
    "    KernelArguments(input=input, philosophical_text=philosophical_text)\n",
    ")\n",
    "\n",
    "print(result)"
   ]
  },
  {
   "cell_type": "markdown",
   "metadata": {},
   "source": [
    "# Text in Emojis umwandeln\n",
    "Erstelle eine AI-gestützte Funktion, die den Text in Emojis umwandelt."
   ]
  },
  {
   "cell_type": "code",
   "execution_count": 5,
   "metadata": {},
   "outputs": [
    {
     "name": "stdout",
     "output_type": "stream",
     "text": [
      "1. 🌿🌍🤔🔍💭❓🕰️👨‍🎓👩‍🎓💡📜\n"
     ]
    }
   ],
   "source": [
    "emoji_settings = kernel.get_prompt_execution_settings_from_service_id(service_id)\n",
    "emoji_settings.temperature = 0.8\n",
    "\n",
    "emoji_prompt_template = \"\"\"\n",
    "Input: {{$input}}\n",
    "Task: Verwandle den folgenden philosophischen Text in eine Emoji-Darstellung.\n",
    "Philosophischer Text: {{$philosophical_text}}\n",
    "\n",
    "Output your response in this format:\n",
    "1. [Emoji-Text]\n",
    "\"\"\"\n",
    "\n",
    "emoji_function = kernel.add_function(\n",
    "    plugin_name=\"EmojiConverter\",\n",
    "    function_name=\"ConvertToEmoji\",\n",
    "    prompt=emoji_prompt_template,\n",
    "    template_format=\"semantic-kernel\",\n",
    "    prompt_execution_settings=emoji_settings,\n",
    ")\n",
    "\n",
    "philosophical_text = \"Die Natur der Realität ist eine tiefgründige und komplexe Frage, die seit Jahrhunderten Philosophen beschäftigt.\"\n",
    "input = f\"Verwandle diesen Text in eine Emoji-Darstellung: {philosophical_text}\"\n",
    "\n",
    "result = await kernel.invoke(\n",
    "    emoji_function,\n",
    "    KernelArguments(input=input, philosophical_text=philosophical_text)\n",
    ")\n",
    "\n",
    "print(result)"
   ]
  },
  {
   "cell_type": "markdown",
   "metadata": {},
   "source": [
    "Nicht KI Textanalyse die Anzahl Wörter und Zeichen zählt"
   ]
  },
  {
   "cell_type": "code",
   "execution_count": 6,
   "metadata": {},
   "outputs": [
    {
     "name": "stdout",
     "output_type": "stream",
     "text": [
      "Word Count: 15\n",
      "Character Count: 112\n"
     ]
    }
   ],
   "source": [
    "from typing import Annotated\n",
    "from semantic_kernel.functions.kernel_function_decorator import kernel_function\n",
    "from semantic_kernel.functions import KernelArguments, KernelFunction\n",
    "\n",
    "class TextAnalysisPlugin:\n",
    "    \"\"\"Description: TextAnalysisPlugin provides a set of functions to analyze text.\n",
    "\n",
    "    Usage:\n",
    "        kernel.add_plugin(TextAnalysisPlugin(), plugin_name=\"text_analysis\")\n",
    "\n",
    "    Examples:\n",
    "        {{text_analysis.WordCount}} => Returns the number of words in the input text\n",
    "        {{text_analysis.CharacterCount}} => Returns the number of characters in the input text\n",
    "    \"\"\"\n",
    "\n",
    "    @kernel_function(name=\"WordCount\")\n",
    "    def word_count(\n",
    "        self, input: Annotated[str, \"The text to analyze\"]\n",
    "    ) -> Annotated[int, \"The number of words in the text\"]:\n",
    "        \"\"\"Returns the number of words in the provided text.\"\"\"\n",
    "        return len(input.split())\n",
    "\n",
    "    @kernel_function(name=\"CharacterCount\")\n",
    "    def character_count(\n",
    "        self, input: Annotated[str, \"The text to analyze\"]\n",
    "    ) -> Annotated[int, \"The number of characters in the text\"]:\n",
    "        \"\"\"Returns the number of characters in the provided text.\"\"\"\n",
    "        return len(input)\n",
    "\n",
    "# Register the plugin with the kernel\n",
    "text_analysis_plugin = kernel.add_plugin(TextAnalysisPlugin(), \"text_analysis\")\n",
    "\n",
    "philosophical_text = \"Die Natur der Realität ist eine tiefgründige und komplexe Frage, die seit Jahrhunderten Philosophen beschäftigt.\"\n",
    "\n",
    "# Beispielaufruf der Funktionen\n",
    "word_count_function = kernel.get_function(\"text_analysis\", \"WordCount\")\n",
    "word_count_result = await kernel.invoke(\n",
    "    word_count_function,\n",
    "    KernelArguments(input=philosophical_text)\n",
    ")\n",
    "print(f\"Word Count: {word_count_result}\")\n",
    "\n",
    "character_count_function = kernel.get_function(\"text_analysis\", \"CharacterCount\")\n",
    "character_count_result = await kernel.invoke(\n",
    "    character_count_function,\n",
    "    KernelArguments(input=philosophical_text)\n",
    ")\n",
    "print(f\"Character Count: {character_count_result}\")"
   ]
  },
  {
   "cell_type": "markdown",
   "metadata": {},
   "source": [
    "Kombination beider KI Funktionen"
   ]
  },
  {
   "cell_type": "code",
   "execution_count": 7,
   "metadata": {},
   "outputs": [
    {
     "name": "stdout",
     "output_type": "stream",
     "text": [
      "🔍 Text Transformation Demo\n",
      "\n",
      "📝 Transforming text: Die Natur der Realität ist eine tiefgründige und komplexe Frage, die seit Jahrhunderten Philosophen beschäftigt. \n",
      "\n",
      "1️⃣ Meme Text:\n",
      "1. \"Wenn du versuchst, die Natur der Realität zu verstehen, aber dein Kaffeebecher schon wieder leer ist: 🤔☕️ 'Philosophie? Ich dachte, wir reden über Snacks!' 🍕😂\" \n",
      "\n",
      "2️⃣ Emoji Text:\n",
      "1. 🌍🤔🔍💭❓🧠🕰️👨‍🎓👩‍🎓\n"
     ]
    }
   ],
   "source": [
    "from typing import Annotated\n",
    "from semantic_kernel.functions.kernel_function_decorator import kernel_function\n",
    "from semantic_kernel.functions import KernelArguments\n",
    "\n",
    "class TextTransformationPlugin:\n",
    "    \"\"\"Description: TextTransformationPlugin provides functions to transform text into memes and emojis.\n",
    "\n",
    "    Usage:\n",
    "        kernel.add_plugin(TextTransformationPlugin(), plugin_name=\"text_transformation\")\n",
    "    \"\"\"\n",
    "\n",
    "    @kernel_function(name=\"GenerateMemeText\")\n",
    "    async def generate_meme_text(self, input: Annotated[str, \"The text to transform into a meme\"]) -> str:\n",
    "        \"\"\"Transforms the provided text into a meme.\"\"\"\n",
    "        meme_prompt_template = \"\"\"\n",
    "        Input: {{$input}}\n",
    "        Task: Verwandle den folgenden philosophischen Text in einen lustigen und ansprechenden Meme-Text.\n",
    "        Philosophischer Text: {{$philosophical_text}}\n",
    "\n",
    "        Output your response in this format:\n",
    "        1. [Meme-Text]\n",
    "        \"\"\"\n",
    "        \n",
    "        meme_function = kernel.add_function(\n",
    "            plugin_name=\"MemeGenerator\",\n",
    "            function_name=\"GenerateMemeText\",\n",
    "            prompt=meme_prompt_template,\n",
    "            template_format=\"semantic-kernel\",\n",
    "            prompt_execution_settings=meme_settings,\n",
    "        )\n",
    "\n",
    "        return await kernel.invoke(meme_function, KernelArguments(input=input, philosophical_text=input))\n",
    "\n",
    "    @kernel_function(name=\"ConvertToEmoji\")\n",
    "    async def convert_to_emoji(self, input: Annotated[str, \"The text to transform into emojis\"]) -> str:\n",
    "        \"\"\"Transforms the provided text into emojis.\"\"\"\n",
    "        emoji_prompt_template = \"\"\"\n",
    "        Input: {{$input}}\n",
    "        Task: Verwandle den folgenden philosophischen Text in eine Emoji-Darstellung.\n",
    "        Philosophischer Text: {{$philosophical_text}}\n",
    "\n",
    "        Output your response in this format:\n",
    "        1. [Emoji-Text]\n",
    "        \"\"\"\n",
    "        \n",
    "        emoji_function = kernel.add_function(\n",
    "            plugin_name=\"EmojiConverter\",\n",
    "            function_name=\"ConvertToEmoji\",\n",
    "            prompt=emoji_prompt_template,\n",
    "            template_format=\"semantic-kernel\",\n",
    "            prompt_execution_settings=emoji_settings,\n",
    "        )\n",
    "\n",
    "        return await kernel.invoke(emoji_function, KernelArguments(input=input, philosophical_text=input))\n",
    "\n",
    "# Register the plugin with the kernel\n",
    "text_transformation_plugin = kernel.add_plugin(TextTransformationPlugin(), \"text_transformation\")\n",
    "\n",
    "philosophical_text = \"Die Natur der Realität ist eine tiefgründige und komplexe Frage, die seit Jahrhunderten Philosophen beschäftigt.\"\n",
    "\n",
    "print(\"🔍 Text Transformation Demo\\n\")\n",
    "print(\"📝 Transforming text:\", philosophical_text, \"\\n\")\n",
    "\n",
    "print(\"1️⃣ Meme Text:\")\n",
    "meme_text = await kernel.invoke(text_transformation_plugin[\"GenerateMemeText\"], KernelArguments(input=philosophical_text))\n",
    "print(meme_text, \"\\n\")\n",
    "\n",
    "print(\"2️⃣ Emoji Text:\")\n",
    "emoji_text = await kernel.invoke(text_transformation_plugin[\"ConvertToEmoji\"], KernelArguments(input=philosophical_text))\n",
    "print(emoji_text)"
   ]
  },
  {
   "cell_type": "markdown",
   "metadata": {},
   "source": [
    "Memory"
   ]
  },
  {
   "cell_type": "code",
   "execution_count": 8,
   "metadata": {},
   "outputs": [
    {
     "name": "stdout",
     "output_type": "stream",
     "text": [
      "Question: What was the result of the meme text transformation?\n",
      "Answer: 1. 🌿🌍🤔🔍💭❓🕰️👨‍🎓👩‍🎓💡📜\n",
      "\n",
      "Question: What was the result of the emoji text transformation?\n",
      "Answer: 1. 🌿🌍🤔🔍💭❓🕰️👨‍🎓👩‍🎓💡📜\n",
      "\n"
     ]
    }
   ],
   "source": [
    "from semantic_kernel.memory.semantic_text_memory import SemanticTextMemory\n",
    "from semantic_kernel.memory.volatile_memory_store import VolatileMemoryStore\n",
    "from semantic_kernel.core_plugins.text_memory_plugin import TextMemoryPlugin\n",
    "\n",
    "# Speicher einrichten\n",
    "memory_store = VolatileMemoryStore()\n",
    "memory = SemanticTextMemory(storage=memory_store, embeddings_generator=kernel.get_service(embedding_service_id))\n",
    "kernel.add_plugin(TextMemoryPlugin(memory), \"TextMemoryPlugin\")\n",
    "\n",
    "# Informationen speichern\n",
    "await memory.save_information(\n",
    "    collection=\"facts\", id=\"fact1\", text=str(result), description=\"Meme Text\"\n",
    ")\n",
    "\n",
    "await memory.save_information(\n",
    "    collection=\"facts\", id=\"fact2\", text=str(result), description=\"Emoji Text\"\n",
    ")\n",
    "\n",
    "# Fragen definieren\n",
    "questions = [\n",
    "    \"What was the result of the meme text transformation?\",\n",
    "    \"What was the result of the emoji text transformation?\",\n",
    "]\n",
    "\n",
    "# Fragen stellen und Antworten abrufen\n",
    "for question in questions:\n",
    "    print(f\"Question: {question}\")\n",
    "    result = await memory.search(\"facts\", question)\n",
    "    print(f\"Answer: {result[0].text}\\n\")"
   ]
  },
  {
   "cell_type": "code",
   "execution_count": null,
   "metadata": {},
   "outputs": [],
   "source": []
  }
 ],
 "metadata": {
  "kernelspec": {
   "display_name": ".venv",
   "language": "python",
   "name": "python3"
  },
  "language_info": {
   "codemirror_mode": {
    "name": "ipython",
    "version": 3
   },
   "file_extension": ".py",
   "mimetype": "text/x-python",
   "name": "python",
   "nbconvert_exporter": "python",
   "pygments_lexer": "ipython3",
   "version": "3.12.7"
  }
 },
 "nbformat": 4,
 "nbformat_minor": 2
}
